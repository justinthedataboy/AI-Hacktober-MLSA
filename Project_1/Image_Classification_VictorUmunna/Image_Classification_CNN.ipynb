{
  "nbformat": 4,
  "nbformat_minor": 0,
  "metadata": {
    "colab": {
      "provenance": []
    },
    "kernelspec": {
      "name": "python3",
      "display_name": "Python 3"
    },
    "language_info": {
      "name": "python"
    }
  },
  "cells": [
    {
      "cell_type": "code",
      "source": [
        "! pip install split-folders"
      ],
      "metadata": {
        "id": "JSXsjsI2HVVa",
        "outputId": "e7e8e8f3-a4ac-444b-ab65-403bb77472db",
        "colab": {
          "base_uri": "https://localhost:8080/"
        }
      },
      "execution_count": 1,
      "outputs": [
        {
          "output_type": "stream",
          "name": "stdout",
          "text": [
            "Collecting split-folders\n",
            "  Downloading split_folders-0.5.1-py3-none-any.whl (8.4 kB)\n",
            "Installing collected packages: split-folders\n",
            "Successfully installed split-folders-0.5.1\n"
          ]
        }
      ]
    },
    {
      "cell_type": "code",
      "source": [
        "# Import libraries\n",
        "\n",
        "import numpy as np\n",
        "import pandas as pd\n",
        "import matplotlib.pyplot as plt\n",
        "import tensorflow as tf\n",
        "from tensorflow import keras\n",
        "import splitfolders\n",
        "from tensorflow.keras.preprocessing.image import ImageDataGenerator"
      ],
      "metadata": {
        "id": "b82_RDtBYk_8"
      },
      "execution_count": 2,
      "outputs": []
    },
    {
      "cell_type": "code",
      "source": [
        "from tensorflow.keras.models import Sequential\n",
        "from tensorflow.keras.layers import Activation, Dense, Flatten, BatchNormalization, Conv2D, MaxPool2D, Dropout\n",
        "from tensorflow.keras.optimizers import Adam\n",
        "from tensorflow.keras.metrics import categorical_crossentropy\n",
        "from tensorflow.keras.preprocessing.image import ImageDataGenerator\n",
        "\n",
        "from sklearn.metrics import confusion_matrix"
      ],
      "metadata": {
        "id": "c4RbbLEO6DdH"
      },
      "execution_count": 3,
      "outputs": []
    },
    {
      "cell_type": "code",
      "source": [
        "import matplotlib.image as mpimg\n",
        "%matplotlib inline\n",
        "\n",
        "from tensorflow.keras.preprocessing import image_dataset_from_directory\n",
        "\n",
        "# for reproducibility\n",
        "SEED = 42\n",
        "np.random.seed(SEED)\n",
        "tf.random.set_seed(SEED)"
      ],
      "metadata": {
        "id": "DHvCW4UGd4oI"
      },
      "execution_count": 4,
      "outputs": []
    },
    {
      "cell_type": "code",
      "source": [
        "! git clone https://github.com/VictorUmunna/AI-Hacktober-MLSA.git"
      ],
      "metadata": {
        "colab": {
          "base_uri": "https://localhost:8080/"
        },
        "id": "tHVBJP0b6HDG",
        "outputId": "5f4d685a-b2fa-4aac-cc9f-fe0ba1dd7775"
      },
      "execution_count": 5,
      "outputs": [
        {
          "output_type": "stream",
          "name": "stdout",
          "text": [
            "Cloning into 'AI-Hacktober-MLSA'...\n",
            "remote: Enumerating objects: 3680, done.\u001b[K\n",
            "remote: Counting objects: 100% (722/722), done.\u001b[K\n",
            "remote: Compressing objects: 100% (203/203), done.\u001b[K\n",
            "remote: Total 3680 (delta 601), reused 519 (delta 519), pack-reused 2958\u001b[K\n",
            "Receiving objects: 100% (3680/3680), 621.19 MiB | 48.31 MiB/s, done.\n",
            "Resolving deltas: 100% (1347/1347), done.\n"
          ]
        }
      ]
    },
    {
      "cell_type": "markdown",
      "source": [
        "Split the folders into train - 80%, test- 10% and validation sets-10%."
      ],
      "metadata": {
        "id": "blou6B4x6LIm"
      }
    },
    {
      "cell_type": "code",
      "source": [
        "splitfolders.ratio(\"/content/AI-Hacktober-MLSA/Project_1/Data\", output=\"/content/AI-Hacktober-MLSA/Project_1/Output_Data\",\n",
        "    seed=1337, ratio=(.8, .1, .1), group_prefix=None, move=False)"
      ],
      "metadata": {
        "colab": {
          "base_uri": "https://localhost:8080/"
        },
        "id": "RtxiW6j_6JyT",
        "outputId": "4d534fdb-3475-4e69-8a36-58312fee8d17"
      },
      "execution_count": 6,
      "outputs": [
        {
          "output_type": "stream",
          "name": "stderr",
          "text": [
            "Copying files: 574 files [00:00, 4506.10 files/s]\n"
          ]
        }
      ]
    },
    {
      "cell_type": "code",
      "source": [
        "train_path = '/content/AI-Hacktober-MLSA/Project_1/Output_Data/train'\n",
        "val_path = '/content/AI-Hacktober-MLSA/Project_1/Output_Data/val'\n",
        "test_path = '/content/AI-Hacktober-MLSA/Project_1/Output_Data/test'"
      ],
      "metadata": {
        "id": "2BB8aqY3d-sM"
      },
      "execution_count": 7,
      "outputs": []
    },
    {
      "cell_type": "code",
      "source": [
        "# GRADED FUNCTION: train_val_generators\n",
        "def train_val_test_generators(TRAINING_DIR, VALIDATION_DIR, TEST_DIR):\n",
        "\n",
        "\n",
        "  # Instantiate the ImageDataGenerator class (don't forget to set the arguments to augment the images)\n",
        "  train_datagen = ImageDataGenerator(rescale = 1./255.,\n",
        "                                     rotation_range = 40,\n",
        "                                     width_shift_range = 0.2,\n",
        "                                     height_shift_range = 0.2,\n",
        "                                     shear_range = 0.2,\n",
        "                                     zoom_range = 0.2,\n",
        "                                     horizontal_flip = True,\n",
        "                                     fill_mode = 'nearest')\n",
        "\n",
        "  # Pass in the appropriate arguments to the flow_from_directory method\n",
        "  train_generator = train_datagen.flow_from_directory(directory = TRAINING_DIR,\n",
        "                                                      batch_size = 45,\n",
        "                                                      class_mode = 'categorical',\n",
        "                                                      target_size = (150, 150))\n",
        "\n",
        "  # Instantiate the ImageDataGenerator class (don't forget to set the rescale argument)\n",
        "  validation_datagen = ImageDataGenerator(rescale = 1./255.)\n",
        "\n",
        "  # Pass in the appropriate arguments to the flow_from_directory method\n",
        "  validation_generator = validation_datagen.flow_from_directory(directory = VALIDATION_DIR,\n",
        "                                                                batch_size = 5,\n",
        "                                                                class_mode = 'categorical',\n",
        "                                                                target_size = (150, 150))\n",
        "\n",
        "  # Instantiate the ImageDataGenerator class (don't forget to set the rescale argument)\n",
        "  test_datagen = ImageDataGenerator(rescale = 1./255.)\n",
        "\n",
        "  # Pass in the appropriate arguments to the flow_from_directory method\n",
        "  test_generator = test_datagen.flow_from_directory(directory = TEST_DIR,\n",
        "                                                                batch_size = 5,\n",
        "                                                                class_mode = 'categorical',\n",
        "                                                                target_size = (150, 150))\n",
        "\n",
        "  return train_generator, validation_generator, test_generator"
      ],
      "metadata": {
        "id": "5XcidJJ5eI0x"
      },
      "execution_count": 8,
      "outputs": []
    },
    {
      "cell_type": "code",
      "source": [
        "train_generator, validation_generator, test_generator = train_val_test_generators(train_path, val_path, test_path)"
      ],
      "metadata": {
        "colab": {
          "base_uri": "https://localhost:8080/"
        },
        "id": "KIXjKCRtfTbJ",
        "outputId": "c17b6ccd-27f1-4058-c9c9-0f6e18a32a9b"
      },
      "execution_count": 9,
      "outputs": [
        {
          "output_type": "stream",
          "name": "stdout",
          "text": [
            "Found 458 images belonging to 3 classes.\n",
            "Found 55 images belonging to 3 classes.\n",
            "Found 61 images belonging to 3 classes.\n"
          ]
        }
      ]
    },
    {
      "cell_type": "code",
      "source": [
        "from tensorflow.keras.optimizers import Adam\n",
        "def create_model():\n",
        "    model = tf.keras.models.Sequential([\n",
        "    tf.keras.layers.Conv2D(32, kernel_size=(5, 5), activation='relu', input_shape=(150, 150, 3)),\n",
        "    tf.keras.layers.MaxPooling2D(pool_size=(2, 2)),\n",
        "    tf.keras.layers.BatchNormalization(axis = 1),\n",
        "    tf.keras.layers.Dropout(0.22),\n",
        "    tf.keras.layers.Conv2D(32, kernel_size=(5, 5), activation='relu'),\n",
        "    tf.keras.layers.AveragePooling2D(pool_size=(2, 2)),\n",
        "    tf.keras.layers.BatchNormalization(axis = 1),\n",
        "    tf.keras.layers.Dropout(0.25),\n",
        "    tf.keras.layers.Conv2D(32, kernel_size=(4, 4), activation='relu'),\n",
        "    tf.keras.layers.AveragePooling2D(pool_size=(2, 2)),\n",
        "    tf.keras.layers.BatchNormalization(axis = 1),\n",
        "    tf.keras.layers.Dropout(0.15),\n",
        "    tf.keras.layers.Conv2D(32, kernel_size=(3, 3), activation='relu'),\n",
        "    tf.keras.layers.AveragePooling2D(pool_size=(2, 2)),\n",
        "    tf.keras.layers.BatchNormalization(axis = 1),\n",
        "    tf.keras.layers.Dropout(0.15),\n",
        "    tf.keras.layers.Flatten(),\n",
        "    tf.keras.layers.Dense(256, activation='relu',kernel_regularizer=keras.regularizers.l2(0.001)),\n",
        "    tf.keras.layers.Dropout(0.25),\n",
        "    tf.keras.layers.Dense(64, activation='relu',kernel_regularizer=keras.regularizers.l2(0.001)),\n",
        "    tf.keras.layers.Dropout(0.1),\n",
        "    tf.keras.layers.Dense(3, activation='softmax')\n",
        "    ])\n",
        "    model.compile(optimizer='adam',\n",
        "                loss='categorical_crossentropy',\n",
        "                metrics=['accuracy'])\n",
        "    return model"
      ],
      "metadata": {
        "id": "EDp5vu-T-HFR"
      },
      "execution_count": 10,
      "outputs": []
    },
    {
      "cell_type": "code",
      "source": [
        "# create callbacks fr training\n",
        "my_callbacks = tf.keras.callbacks.ModelCheckpoint('weights.h5', save_best_only = True,\n",
        "                                                  save_weights_only = True)\n",
        "\n",
        "# Get the untrained model\n",
        "model = create_model()\n",
        "\n",
        "# Train the model\n",
        "# Note that this may take some time.\n",
        "history = model.fit(train_generator,\n",
        "                    epochs=25,\n",
        "                    validation_data=validation_generator,\n",
        "                    callbacks=[my_callbacks])"
      ],
      "metadata": {
        "colab": {
          "base_uri": "https://localhost:8080/"
        },
        "id": "PNrmDvFMiqJ_",
        "outputId": "f84de16a-ef27-406f-a219-23ced2482936"
      },
      "execution_count": 11,
      "outputs": [
        {
          "output_type": "stream",
          "name": "stdout",
          "text": [
            "Epoch 1/25\n",
            "11/11 [==============================] - 27s 2s/step - loss: 1.7455 - accuracy: 0.4323 - val_loss: 1.5533 - val_accuracy: 0.5091\n",
            "Epoch 2/25\n",
            "11/11 [==============================] - 17s 2s/step - loss: 1.5774 - accuracy: 0.4498 - val_loss: 1.5507 - val_accuracy: 0.5273\n",
            "Epoch 3/25\n",
            "11/11 [==============================] - 16s 1s/step - loss: 1.4970 - accuracy: 0.5044 - val_loss: 1.5664 - val_accuracy: 0.5091\n",
            "Epoch 4/25\n",
            "11/11 [==============================] - 17s 2s/step - loss: 1.5104 - accuracy: 0.5175 - val_loss: 1.5026 - val_accuracy: 0.5091\n",
            "Epoch 5/25\n",
            "11/11 [==============================] - 17s 1s/step - loss: 1.4347 - accuracy: 0.5131 - val_loss: 1.5112 - val_accuracy: 0.5636\n",
            "Epoch 6/25\n",
            "11/11 [==============================] - 16s 1s/step - loss: 1.4338 - accuracy: 0.5197 - val_loss: 1.5218 - val_accuracy: 0.5455\n",
            "Epoch 7/25\n",
            "11/11 [==============================] - 16s 1s/step - loss: 1.4682 - accuracy: 0.5000 - val_loss: 1.4953 - val_accuracy: 0.5091\n",
            "Epoch 8/25\n",
            "11/11 [==============================] - 16s 2s/step - loss: 1.4451 - accuracy: 0.4956 - val_loss: 1.5600 - val_accuracy: 0.5091\n",
            "Epoch 9/25\n",
            "11/11 [==============================] - 17s 2s/step - loss: 1.3906 - accuracy: 0.5109 - val_loss: 1.4406 - val_accuracy: 0.5818\n",
            "Epoch 10/25\n",
            "11/11 [==============================] - 17s 2s/step - loss: 1.3134 - accuracy: 0.5611 - val_loss: 1.3547 - val_accuracy: 0.5091\n",
            "Epoch 11/25\n",
            "11/11 [==============================] - 17s 1s/step - loss: 1.3140 - accuracy: 0.5917 - val_loss: 1.4012 - val_accuracy: 0.5455\n",
            "Epoch 12/25\n",
            "11/11 [==============================] - 16s 2s/step - loss: 1.4003 - accuracy: 0.5306 - val_loss: 1.5378 - val_accuracy: 0.2909\n",
            "Epoch 13/25\n",
            "11/11 [==============================] - 17s 1s/step - loss: 1.3119 - accuracy: 0.5502 - val_loss: 2.0651 - val_accuracy: 0.1455\n",
            "Epoch 14/25\n",
            "11/11 [==============================] - 16s 1s/step - loss: 1.3102 - accuracy: 0.5786 - val_loss: 1.6544 - val_accuracy: 0.2364\n",
            "Epoch 15/25\n",
            "11/11 [==============================] - 16s 1s/step - loss: 1.2772 - accuracy: 0.5764 - val_loss: 1.5977 - val_accuracy: 0.2727\n",
            "Epoch 16/25\n",
            "11/11 [==============================] - 16s 1s/step - loss: 1.2217 - accuracy: 0.6310 - val_loss: 1.7821 - val_accuracy: 0.2182\n",
            "Epoch 17/25\n",
            "11/11 [==============================] - 17s 2s/step - loss: 1.3216 - accuracy: 0.5742 - val_loss: 1.5899 - val_accuracy: 0.2364\n",
            "Epoch 18/25\n",
            "11/11 [==============================] - 16s 2s/step - loss: 1.2476 - accuracy: 0.6026 - val_loss: 1.5495 - val_accuracy: 0.3273\n",
            "Epoch 19/25\n",
            "11/11 [==============================] - 16s 1s/step - loss: 1.2081 - accuracy: 0.6310 - val_loss: 1.8816 - val_accuracy: 0.1818\n",
            "Epoch 20/25\n",
            "11/11 [==============================] - 17s 2s/step - loss: 1.1960 - accuracy: 0.6026 - val_loss: 1.3671 - val_accuracy: 0.4909\n",
            "Epoch 21/25\n",
            "11/11 [==============================] - 16s 1s/step - loss: 1.2052 - accuracy: 0.6026 - val_loss: 1.4317 - val_accuracy: 0.3455\n",
            "Epoch 22/25\n",
            "11/11 [==============================] - 16s 1s/step - loss: 1.1451 - accuracy: 0.6223 - val_loss: 1.3201 - val_accuracy: 0.5636\n",
            "Epoch 23/25\n",
            "11/11 [==============================] - 17s 2s/step - loss: 1.1810 - accuracy: 0.5983 - val_loss: 1.3244 - val_accuracy: 0.4727\n",
            "Epoch 24/25\n",
            "11/11 [==============================] - 16s 1s/step - loss: 1.1850 - accuracy: 0.6135 - val_loss: 1.3599 - val_accuracy: 0.4364\n",
            "Epoch 25/25\n",
            "11/11 [==============================] - 20s 2s/step - loss: 1.1463 - accuracy: 0.6572 - val_loss: 1.2195 - val_accuracy: 0.7091\n"
          ]
        }
      ]
    },
    {
      "cell_type": "code",
      "source": [
        "results = history.history"
      ],
      "metadata": {
        "id": "eISrpaH64CyX"
      },
      "execution_count": 12,
      "outputs": []
    },
    {
      "cell_type": "code",
      "source": [
        "# plot results\n",
        "\n",
        "n_epochs = len(results['loss'])\n",
        "\n",
        "plt.figure(figsize=[14,4])\n",
        "plt.grid(True)\n",
        "plt.subplot(1,2,1)\n",
        "plt.plot(range(1, n_epochs+1), results['loss'], label='Training')\n",
        "plt.plot(range(1, n_epochs+1), results['val_loss'], label='Validation')\n",
        "plt.xlabel('Epoch'); plt.ylabel('Loss'); plt.title('Loss')\n",
        "plt.legend()\n",
        "plt.grid(True)\n",
        "plt.subplot(1,2,2)\n",
        "plt.plot(range(1, n_epochs+1), results['accuracy'], label='Training')\n",
        "plt.plot(range(1, n_epochs+1), results['val_accuracy'], label='Validation')\n",
        "plt.xlabel('Epoch'); plt.ylabel('Accuracy'); plt.title('Accuracy')\n",
        "plt.legend()\n",
        "plt.grid(True)\n",
        "plt.show()"
      ],
      "metadata": {
        "id": "YS97eVgejyBK",
        "colab": {
          "base_uri": "https://localhost:8080/",
          "height": 465
        },
        "outputId": "837fa444-f48d-4c88-bfda-56501526160d"
      },
      "execution_count": 13,
      "outputs": [
        {
          "output_type": "stream",
          "name": "stderr",
          "text": [
            "<ipython-input-13-a6c73883fee0>:7: MatplotlibDeprecationWarning: Auto-removal of overlapping axes is deprecated since 3.6 and will be removed two minor releases later; explicitly call ax.remove() as needed.\n",
            "  plt.subplot(1,2,1)\n"
          ]
        },
        {
          "output_type": "display_data",
          "data": {
            "text/plain": [
              "<Figure size 1400x400 with 2 Axes>"
            ],
            "image/png": "[encoded data removed]"
          },
          "metadata": {}
        }
      ]
    },
    {
      "cell_type": "code",
      "source": [
        "from google.colab import files\n",
        "from keras.preprocessing import image\n",
        "\n",
        "uploaded = files.upload()\n",
        "\n",
        "for fn in uploaded.keys():\n",
        "\n",
        "  # predicting images\n",
        "  path = fn\n",
        "  img = image.load_img(path, target_size=(150, 150))\n",
        "  x = image.img_to_array(img)\n",
        "  x = np.expand_dims(x, axis=0)\n",
        "\n",
        "  images = np.vstack([x])\n",
        "  classes = model.predict(images, batch_size=10)\n",
        "  print(fn)\n",
        "  print(classes)"
      ],
      "metadata": {
        "id": "uSXgMy34f5eW",
        "outputId": "191e86d1-705a-4d1d-b81d-3a5ad652c480",
        "colab": {
          "base_uri": "https://localhost:8080/",
          "height": 212
        }
      },
      "execution_count": 23,
      "outputs": [
        {
          "output_type": "display_data",
          "data": {
            "text/plain": [
              "<IPython.core.display.HTML object>"
            ],
            "text/html": [
              "\n",
              "     <input type=\"file\" id=\"files-5c07012d-1127-44ed-9b9f-281594993686\" name=\"files[]\" multiple disabled\n",
              "        style=\"border:none\" />\n",
              "     <output id=\"result-5c07012d-1127-44ed-9b9f-281594993686\">\n",
              "      Upload widget is only available when the cell has been executed in the\n",
              "      current browser session. Please rerun this cell to enable.\n",
              "      </output>\n",
              "      <script>// Copyright 2017 Google LLC\n",
              "//\n",
              "// Licensed under the Apache License, Version 2.0 (the \"License\");\n",
              "// you may not use this file except in compliance with the License.\n",
              "// You may obtain a copy of the License at\n",
              "//\n",
              "//      http://www.apache.org/licenses/LICENSE-2.0\n",
              "//\n",
              "// Unless required by applicable law or agreed to in writing, software\n",
              "// distributed under the License is distributed on an \"AS IS\" BASIS,\n",
              "// WITHOUT WARRANTIES OR CONDITIONS OF ANY KIND, either express or implied.\n",
              "// See the License for the specific language governing permissions and\n",
              "// limitations under the License.\n",
              "\n",
              "/**\n",
              " * @fileoverview Helpers for google.colab Python module.\n",
              " */\n",
              "(function(scope) {\n",
              "function span(text, styleAttributes = {}) {\n",
              "  const element = document.createElement('span');\n",
              "  element.textContent = text;\n",
              "  for (const key of Object.keys(styleAttributes)) {\n",
              "    element.style[key] = styleAttributes[key];\n",
              "  }\n",
              "  return element;\n",
              "}\n",
              "\n",
              "// Max number of bytes which will be uploaded at a time.\n",
              "const MAX_PAYLOAD_SIZE = 100 * 1024;\n",
              "\n",
              "function _uploadFiles(inputId, outputId) {\n",
              "  const steps = uploadFilesStep(inputId, outputId);\n",
              "  const outputElement = document.getElementById(outputId);\n",
              "  // Cache steps on the outputElement to make it available for the next call\n",
              "  // to uploadFilesContinue from Python.\n",
              "  outputElement.steps = steps;\n",
              "\n",
              "  return _uploadFilesContinue(outputId);\n",
              "}\n",
              "\n",
              "// This is roughly an async generator (not supported in the browser yet),\n",
              "// where there are multiple asynchronous steps and the Python side is going\n",
              "// to poll for completion of each step.\n",
              "// This uses a Promise to block the python side on completion of each step,\n",
              "// then passes the result of the previous step as the input to the next step.\n",
              "function _uploadFilesContinue(outputId) {\n",
              "  const outputElement = document.getElementById(outputId);\n",
              "  const steps = outputElement.steps;\n",
              "\n",
              "  const next = steps.next(outputElement.lastPromiseValue);\n",
              "  return Promise.resolve(next.value.promise).then((value) => {\n",
              "    // Cache the last promise value to make it available to the next\n",
              "    // step of the generator.\n",
              "    outputElement.lastPromiseValue = value;\n",
              "    return next.value.response;\n",
              "  });\n",
              "}\n",
              "\n",
              "/**\n",
              " * Generator function which is called between each async step of the upload\n",
              " * process.\n",
              " * @param {string} inputId Element ID of the input file picker element.\n",
              " * @param {string} outputId Element ID of the output display.\n",
              " * @return {!Iterable<!Object>} Iterable of next steps.\n",
              " */\n",
              "function* uploadFilesStep(inputId, outputId) {\n",
              "  const inputElement = document.getElementById(inputId);\n",
              "  inputElement.disabled = false;\n",
              "\n",
              "  const outputElement = document.getElementById(outputId);\n",
              "  outputElement.innerHTML = '';\n",
              "\n",
              "  const pickedPromise = new Promise((resolve) => {\n",
              "    inputElement.addEventListener('change', (e) => {\n",
              "      resolve(e.target.files);\n",
              "    });\n",
              "  });\n",
              "\n",
              "  const cancel = document.createElement('button');\n",
              "  inputElement.parentElement.appendChild(cancel);\n",
              "  cancel.textContent = 'Cancel upload';\n",
              "  const cancelPromise = new Promise((resolve) => {\n",
              "    cancel.onclick = () => {\n",
              "      resolve(null);\n",
              "    };\n",
              "  });\n",
              "\n",
              "  // Wait for the user to pick the files.\n",
              "  const files = yield {\n",
              "    promise: Promise.race([pickedPromise, cancelPromise]),\n",
              "    response: {\n",
              "      action: 'starting',\n",
              "    }\n",
              "  };\n",
              "\n",
              "  cancel.remove();\n",
              "\n",
              "  // Disable the input element since further picks are not allowed.\n",
              "  inputElement.disabled = true;\n",
              "\n",
              "  if (!files) {\n",
              "    return {\n",
              "      response: {\n",
              "        action: 'complete',\n",
              "      }\n",
              "    };\n",
              "  }\n",
              "\n",
              "  for (const file of files) {\n",
              "    const li = document.createElement('li');\n",
              "    li.append(span(file.name, {fontWeight: 'bold'}));\n",
              "    li.append(span(\n",
              "        `(${file.type || 'n/a'}) - ${file.size} bytes, ` +\n",
              "        `last modified: ${\n",
              "            file.lastModifiedDate ? file.lastModifiedDate.toLocaleDateString() :\n",
              "                                    'n/a'} - `));\n",
              "    const percent = span('0% done');\n",
              "    li.appendChild(percent);\n",
              "\n",
              "    outputElement.appendChild(li);\n",
              "\n",
              "    const fileDataPromise = new Promise((resolve) => {\n",
              "      const reader = new FileReader();\n",
              "      reader.onload = (e) => {\n",
              "        resolve(e.target.result);\n",
              "      };\n",
              "      reader.readAsArrayBuffer(file);\n",
              "    });\n",
              "    // Wait for the data to be ready.\n",
              "    let fileData = yield {\n",
              "      promise: fileDataPromise,\n",
              "      response: {\n",
              "        action: 'continue',\n",
              "      }\n",
              "    };\n",
              "\n",
              "    // Use a chunked sending to avoid message size limits. See b/62115660.\n",
              "    let position = 0;\n",
              "    do {\n",
              "      const length = Math.min(fileData.byteLength - position, MAX_PAYLOAD_SIZE);\n",
              "      const chunk = new Uint8Array(fileData, position, length);\n",
              "      position += length;\n",
              "\n",
              "      const base64 = btoa(String.fromCharCode.apply(null, chunk));\n",
              "      yield {\n",
              "        response: {\n",
              "          action: 'append',\n",
              "          file: file.name,\n",
              "          data: base64,\n",
              "        },\n",
              "      };\n",
              "\n",
              "      let percentDone = fileData.byteLength === 0 ?\n",
              "          100 :\n",
              "          Math.round((position / fileData.byteLength) * 100);\n",
              "      percent.textContent = `${percentDone}% done`;\n",
              "\n",
              "    } while (position < fileData.byteLength);\n",
              "  }\n",
              "\n",
              "  // All done.\n",
              "  yield {\n",
              "    response: {\n",
              "      action: 'complete',\n",
              "    }\n",
              "  };\n",
              "}\n",
              "\n",
              "scope.google = scope.google || {};\n",
              "scope.google.colab = scope.google.colab || {};\n",
              "scope.google.colab._files = {\n",
              "  _uploadFiles,\n",
              "  _uploadFilesContinue,\n",
              "};\n",
              "})(self);\n",
              "</script> "
            ]
          },
          "metadata": {}
        },
        {
          "output_type": "stream",
          "name": "stdout",
          "text": [
            "Saving bungalow.jpg to bungalow (1).jpg\n",
            "Saving bungalow2.jpg to bungalow2 (1).jpg\n",
            "1/1 [==============================] - 0s 24ms/step\n",
            "bungalow (1).jpg\n",
            "[[0.000000e+00 1.000000e+00 2.994428e-13]]\n",
            "1/1 [==============================] - 0s 27ms/step\n",
            "bungalow2 (1).jpg\n",
            "[[0.0000000e+00 1.6466144e-24 1.0000000e+00]]\n"
          ]
        }
      ]
    }
  ]
}