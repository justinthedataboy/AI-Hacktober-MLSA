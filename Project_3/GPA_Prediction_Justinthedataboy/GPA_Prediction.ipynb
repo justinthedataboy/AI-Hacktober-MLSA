{
 "cells": [
  {
   "cell_type": "code",
   "execution_count": null,
   "id": "5caf4514-fd14-49f7-b211-d01ee1aaf8ac",
   "metadata": {},
   "outputs": [],
   "source": []
  }
 ],
 "metadata": {
  "kernelspec": {
   "display_name": "Python 3 (ipykernel)",
   "language": "python",
   "name": "python3"
  },
  "language_info": {
   "codemirror_mode": {
    "name": "ipython",
    "version": 3
   },
   "file_extension": ".py",
   "mimetype": "text/x-python",
   "name": "python",
   "nbconvert_exporter": "python",
   "pygments_lexer": "ipython3",
   "version": "3.11.4"
  }
 },
 "nbformat": 4,
 "nbformat_minor": 5
}
